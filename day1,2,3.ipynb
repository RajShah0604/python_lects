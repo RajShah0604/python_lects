{
  "nbformat": 4,
  "nbformat_minor": 0,
  "metadata": {
    "colab": {
      "provenance": [],
      "authorship_tag": "ABX9TyMxLI21LyiJKP27MnujoppI",
      "include_colab_link": true
    },
    "kernelspec": {
      "name": "python3",
      "display_name": "Python 3"
    },
    "language_info": {
      "name": "python"
    }
  },
  "cells": [
    {
      "cell_type": "markdown",
      "metadata": {
        "id": "view-in-github",
        "colab_type": "text"
      },
      "source": [
        "<a href=\"https://colab.research.google.com/github/RajShah0604/python_lects/blob/python_lec/day1%2C2%2C3.ipynb\" target=\"_parent\"><img src=\"https://colab.research.google.com/assets/colab-badge.svg\" alt=\"Open In Colab\"/></a>"
      ]
    },
    {
      "cell_type": "code",
      "execution_count": 6,
      "metadata": {
        "colab": {
          "base_uri": "https://localhost:8080/"
        },
        "id": "MahwY2QNGwrk",
        "outputId": "55b52a2c-053c-4700-e531-52995f828cc5"
      },
      "outputs": [
        {
          "output_type": "stream",
          "name": "stdout",
          "text": [
            "30\n",
            "10\n",
            "2.0\n",
            "200\n",
            "2\n",
            "False\n",
            "True\n",
            "1020\n"
          ]
        }
      ],
      "source": [
        "#variables and operators\n",
        "a=20\n",
        "b=10\n",
        "print(a+b)\n",
        "print(a-b)\n",
        "print(a/b)\n",
        "print(a*b)\n",
        "print(a//b)\n",
        "print(a<b)\n",
        "print(a>b)\n",
        "print(\"10\"+\"20\")\n",
        "\n"
      ]
    },
    {
      "cell_type": "code",
      "source": [
        "#if else elif and loops\n",
        "names=[\"raj\",\"mann\",\"ramesh\"]\n",
        "for i in names:\n",
        "  print(i)\n",
        "\n",
        "inte=[1,2,3,4,5,6]\n",
        "for i in range(len(inte)):\n",
        "  print(inte[i])\n",
        "\n",
        "x=1\n",
        "while(x<=10):\n",
        "    print(x)\n",
        "    x+=1\n",
        "z=10\n",
        "\n",
        "a=input(\"Enter three numbers: \")\n",
        "b=input()\n",
        "c=input()\n",
        "if((a>b) and (a>c)):\n",
        "  print(f\"the greatest number is {a}\")\n",
        "elif(b>c):\n",
        "  print(f\"the greatest number is {b}\")\n",
        "else:\n",
        "  print(f\"the greatest number is {c}\")\n"
      ],
      "metadata": {
        "colab": {
          "base_uri": "https://localhost:8080/"
        },
        "id": "vwd0DXVLIEPg",
        "outputId": "6ab64844-b80d-4494-ea69-1457fb5d7851"
      },
      "execution_count": 14,
      "outputs": [
        {
          "output_type": "stream",
          "name": "stdout",
          "text": [
            "raj\n",
            "mann\n",
            "ramesh\n",
            "1\n",
            "2\n",
            "3\n",
            "4\n",
            "5\n",
            "6\n",
            "1\n",
            "2\n",
            "3\n",
            "4\n",
            "5\n",
            "6\n",
            "7\n",
            "8\n",
            "9\n",
            "10\n",
            "Enter three numbers: 1\n",
            "2\n",
            "3\n",
            "the greatest number is 3\n"
          ]
        }
      ]
    },
    {
      "cell_type": "code",
      "source": [
        "#functions\n",
        "d=10\n",
        "def hell():\n",
        "  d=5\n",
        "  print(d)\n",
        "hell()\n",
        "print(d)\n",
        "\n",
        "d=10\n",
        "def hell():\n",
        "  global d\n",
        "  d+=5\n",
        "  print(d)\n",
        "hell()\n",
        "print(d)\n",
        "\n",
        "inte=[7,9,5,3,1]\n",
        "print(max(inte))\n",
        "print(min(inte))\n",
        "\n",
        "def hello(*args):\n",
        "  for i in args:\n",
        "    print(i)\n",
        "hello(\"hello\",\"world\")\n",
        "\n",
        "def id(**kwargs):\n",
        "    for key, value in kwargs.items():\n",
        "        print(\"%s=%s\" % (key, value))\n",
        "\n",
        "id(name=\"raj\",surname=\"shah\", group=\"antariksh\")"
      ],
      "metadata": {
        "colab": {
          "base_uri": "https://localhost:8080/"
        },
        "id": "Ubo0C5nVPgBz",
        "outputId": "3861295b-0c40-4e8c-8d88-1f0f523ada2c"
      },
      "execution_count": 24,
      "outputs": [
        {
          "output_type": "stream",
          "name": "stdout",
          "text": [
            "5\n",
            "10\n",
            "15\n",
            "15\n",
            "9\n",
            "1\n",
            "hello\n",
            "world\n",
            "name=raj\n",
            "surname=shah\n",
            "group=antariksh\n"
          ]
        }
      ]
    },
    {
      "cell_type": "code",
      "source": [
        "#oops\n",
        "class hel:\n",
        "  def hello(self):\n",
        "   return\"hello\"\n",
        "h=hel()\n",
        "print(h.hello())\n",
        "\n",
        "#constructors\n",
        "class id:\n",
        "  def __init__(self,name,group,rollno):\n",
        "    self.name=name\n",
        "    self.group=group\n",
        "    self.rollno=rollno\n",
        "  def __str__(self):\n",
        "    return f\"your name is {self.name} and you are from {self.group} group and your roll no. is {self.rollno} \"\n",
        "\n",
        "s1= id(\"raj shah\",\"antariksh\",124)\n",
        "print(s1)\n",
        "\n",
        "#inheritance\n",
        "#single inheritance\n",
        "class parent:\n",
        "  def hii(self):\n",
        "    print(\"hii i am the parent\")\n",
        "\n",
        "class child(parent):\n",
        "  def hii(self):\n",
        "    print(\"hii i am the child with one parent and i am also overriding my parent(polymorphism)\")\n",
        "p=parent()\n",
        "c=child()\n",
        "c.hii()\n",
        "\n",
        "#multiple inheritance\n",
        "class parent1:\n",
        "  def hii(self):\n",
        "    print(\"hii i am the parent\")\n",
        "class parent2:\n",
        "  def hii(self):\n",
        "    print(\"hii i am the second parent and i am also overriding my parent(polymorphism)\")\n",
        "\n",
        "class child(parent1,parent2):\n",
        "  def hii(self):\n",
        "    print(\"hii i am the child and i have two parents:)\")\n",
        "c=child()\n",
        "c.hii()\n",
        "\n",
        "class grandparent:\n",
        "  def hii(self):\n",
        "    print(\"hii i am the grandparent\")\n",
        "class parent(grandparent):\n",
        "  def hii(self):\n",
        "    print(\"hii i am the parent\")\n",
        "    super().hii()\n",
        "\n",
        "class child(parent):\n",
        "  def hii(self):\n",
        "    print(\"hii i am the child and I have a grandparent:) and i am also overriding my parent(polymorphism)\")\n",
        "    super().hii()\n",
        "c=child()\n",
        "c.hii()\n",
        "\n",
        "#method overloading\n",
        "def add(x,y,z=0):\n",
        "  return x+y+z\n",
        "print(add(1,2))\n",
        "print(add(1,1,1))\n"
      ],
      "metadata": {
        "colab": {
          "base_uri": "https://localhost:8080/"
        },
        "id": "ZWM6kaOSQlJT",
        "outputId": "8da0977b-e829-4eb3-c0a5-85676db9929c"
      },
      "execution_count": 42,
      "outputs": [
        {
          "output_type": "stream",
          "name": "stdout",
          "text": [
            "hello\n",
            "your name is raj shah and you are from antariksh group and your roll no. is 124 \n",
            "hii i am the child with one parent and i am also overriding my parent(polymorphism)\n",
            "hii i am the child and i have two parents:)\n",
            "hii i am the child and I have a grandparent:) and i am also overriding my parent(polymorphism)\n",
            "hii i am the parent\n",
            "hii i am the grandparent\n",
            "3\n",
            "3\n"
          ]
        }
      ]
    },
    {
      "cell_type": "code",
      "source": [
        "#exception handling\n",
        "def divide(a, b):\n",
        "    if b == 0:\n",
        "        raise ZeroDivisionError(\"try again you divide by zero\")\n",
        "    return a / b\n",
        "\n",
        "try:\n",
        "    result = divide(10, 0)\n",
        "    print(\"Result:\", result)\n",
        "\n",
        "    result = divide(5, 0)  # This will raise a ZeroDivisionError\n",
        "except ZeroDivisionError as e:\n",
        "    print(\"An error occurred:\", e)\n"
      ],
      "metadata": {
        "colab": {
          "base_uri": "https://localhost:8080/"
        },
        "id": "1xFbxG-fW8WH",
        "outputId": "91d5a3bc-450e-4b38-d390-0ab3cc962f12"
      },
      "execution_count": 62,
      "outputs": [
        {
          "output_type": "stream",
          "name": "stdout",
          "text": [
            "An error occurred: try again you divide by zero\n"
          ]
        }
      ]
    },
    {
      "cell_type": "code",
      "source": [
        "\n"
      ],
      "metadata": {
        "id": "6ivPQNjFPzOp"
      },
      "execution_count": null,
      "outputs": []
    }
  ]
}